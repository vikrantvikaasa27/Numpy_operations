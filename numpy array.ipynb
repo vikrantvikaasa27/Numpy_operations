{
 "cells": [
  {
   "cell_type": "code",
   "execution_count": 2,
   "id": "fc496cff",
   "metadata": {},
   "outputs": [],
   "source": [
    "#import\n",
    "import numpy as np"
   ]
  },
  {
   "cell_type": "code",
   "execution_count": 3,
   "id": "9d8f68b3",
   "metadata": {},
   "outputs": [],
   "source": [
    "#create numpy arrays\n",
    "a = np.array([1,2,3,4])\n",
    "b = np.array([5,6,7,8])"
   ]
  },
  {
   "cell_type": "code",
   "execution_count": 74,
   "id": "1743dbbc",
   "metadata": {},
   "outputs": [
    {
     "name": "stdout",
     "output_type": "stream",
     "text": [
      "[1 2 3 4]\n",
      "[5 6 7 8]\n"
     ]
    }
   ],
   "source": [
    "#print array\n",
    "print(a)\n",
    "print(b)"
   ]
  },
  {
   "cell_type": "code",
   "execution_count": 75,
   "id": "12c5daf9",
   "metadata": {},
   "outputs": [
    {
     "name": "stdout",
     "output_type": "stream",
     "text": [
      "4\n",
      "4\n"
     ]
    }
   ],
   "source": [
    "#array size\n",
    "print(np.size(a))\n",
    "print(np.size(b))"
   ]
  },
  {
   "cell_type": "code",
   "execution_count": 12,
   "id": "9d5df4f1",
   "metadata": {},
   "outputs": [
    {
     "data": {
      "text/plain": [
       "numpy.ndarray"
      ]
     },
     "execution_count": 12,
     "metadata": {},
     "output_type": "execute_result"
    }
   ],
   "source": [
    "#type of array\n",
    "type(a)"
   ]
  },
  {
   "cell_type": "code",
   "execution_count": 18,
   "id": "8041e996",
   "metadata": {},
   "outputs": [
    {
     "data": {
      "text/plain": [
       "dtype('int32')"
      ]
     },
     "execution_count": 18,
     "metadata": {},
     "output_type": "execute_result"
    }
   ],
   "source": [
    "#datatype of array\n",
    "a.dtype"
   ]
  },
  {
   "cell_type": "code",
   "execution_count": 42,
   "id": "6e49beb6",
   "metadata": {},
   "outputs": [
    {
     "data": {
      "text/plain": [
       "array([[ 1,  2,  3,  4],\n",
       "       [ 5,  6,  7,  8],\n",
       "       [ 9, 10, 11, 12]])"
      ]
     },
     "execution_count": 42,
     "metadata": {},
     "output_type": "execute_result"
    }
   ],
   "source": [
    "#multi dimension array\n",
    "x = np.array([[1,2,3,4],[5,6,7,8],[9,10,11,12]])\n",
    "x"
   ]
  },
  {
   "cell_type": "code",
   "execution_count": 43,
   "id": "4e3f3021",
   "metadata": {},
   "outputs": [
    {
     "data": {
      "text/plain": [
       "2"
      ]
     },
     "execution_count": 43,
     "metadata": {},
     "output_type": "execute_result"
    }
   ],
   "source": [
    "#dimension\n",
    "np.ndim(x)"
   ]
  },
  {
   "cell_type": "code",
   "execution_count": 45,
   "id": "c2ac0846",
   "metadata": {},
   "outputs": [
    {
     "data": {
      "text/plain": [
       "(3, 4)"
      ]
     },
     "execution_count": 45,
     "metadata": {},
     "output_type": "execute_result"
    }
   ],
   "source": [
    "#shape of array\n",
    "np.shape(x)"
   ]
  },
  {
   "cell_type": "code",
   "execution_count": 78,
   "id": "3fe54fdf",
   "metadata": {},
   "outputs": [
    {
     "name": "stdout",
     "output_type": "stream",
     "text": [
      "[[1 2 3 4]\n",
      " [5 6 7 8]]\n",
      "\n",
      "[[ 9 10 11 12]\n",
      " [ 5  6  7  8]\n",
      " [ 1  2  3  4]]\n",
      "\n",
      "[ 3  7 11]\n"
     ]
    }
   ],
   "source": [
    "#slicing\n",
    "print(x[:2])\n",
    "print(\"\")\n",
    "print(x[::-1])\n",
    "print(\"\")\n",
    "print(x[:,2])"
   ]
  },
  {
   "cell_type": "code",
   "execution_count": 92,
   "id": "84965ce1",
   "metadata": {},
   "outputs": [
    {
     "name": "stdout",
     "output_type": "stream",
     "text": [
      "[1 2 4]\n"
     ]
    }
   ],
   "source": [
    "#boolean array\n",
    "ar = np.array([0,1,2,0,4,0])\n",
    "cond = ar>0\n",
    "temp = ar[cond]\n",
    "print(temp)"
   ]
  },
  {
   "cell_type": "code",
   "execution_count": 79,
   "id": "99395010",
   "metadata": {},
   "outputs": [
    {
     "name": "stdout",
     "output_type": "stream",
     "text": [
      "[[0.1 0.2 0.3 0.4]\n",
      " [0.5 0.6 0.7 0.8]]\n",
      "float64\n"
     ]
    }
   ],
   "source": [
    "#array with float dtype\n",
    "c = np.array([[0.1,0.2,0.3,0.4],[0.5,0.6,0.7,0.8]])\n",
    "print(c)\n",
    "print(c.dtype)\n"
   ]
  },
  {
   "cell_type": "code",
   "execution_count": 96,
   "id": "e480ad49",
   "metadata": {},
   "outputs": [
    {
     "name": "stdout",
     "output_type": "stream",
     "text": [
      "('a', 'b', 'c', 'd')\n",
      "\n"
     ]
    },
    {
     "data": {
      "text/plain": [
       "array(['a', 'b', 'c', 'd'], dtype='<U1')"
      ]
     },
     "execution_count": 96,
     "metadata": {},
     "output_type": "execute_result"
    }
   ],
   "source": [
    "#tuple \n",
    "d = ('a','b','c','d')\n",
    "print(d)\n",
    "print(\"\")\n",
    "#tuple to numpy array\n",
    "d = np.array(d)\n",
    "d"
   ]
  },
  {
   "cell_type": "code",
   "execution_count": 83,
   "id": "1d7aeb47",
   "metadata": {},
   "outputs": [
    {
     "name": "stdout",
     "output_type": "stream",
     "text": [
      "[[[6 4 4 6 8]\n",
      "  [1 7 5 6 3]]\n",
      "\n",
      " [[8 6 9 3 0]\n",
      "  [9 0 0 6 1]]]\n",
      "\n",
      "flattened array: [6 4 4 6 8 1 7 5 6 3 8 6 9 3 0 9 0 0 6 1]\n"
     ]
    }
   ],
   "source": [
    "#array with random integers\n",
    "k = np.random.randint(10,size=(2,2,5))\n",
    "print(k)\n",
    "print(\"\")\n",
    "#Flatten the array \n",
    "print('flattened array:',k.flatten())"
   ]
  },
  {
   "cell_type": "code",
   "execution_count": 71,
   "id": "5d27e512",
   "metadata": {},
   "outputs": [
    {
     "name": "stdout",
     "output_type": "stream",
     "text": [
      "[0 1 2 3 4 5 6 7 8 9]\n"
     ]
    },
    {
     "data": {
      "text/plain": [
       "array([[0, 1],\n",
       "       [2, 3],\n",
       "       [4, 5],\n",
       "       [6, 7],\n",
       "       [8, 9]])"
      ]
     },
     "execution_count": 71,
     "metadata": {},
     "output_type": "execute_result"
    }
   ],
   "source": [
    "#create array with arange function\n",
    "arr1 = np.arange(10)\n",
    "print(arr1)\n",
    "#reshape the array\n",
    "arr1.reshape(5,2)"
   ]
  },
  {
   "cell_type": "code",
   "execution_count": 89,
   "id": "f15b38b4",
   "metadata": {},
   "outputs": [
    {
     "data": {
      "text/plain": [
       "array([ 0.  ,  0.71,  1.43,  2.14,  2.86,  3.57,  4.29,  5.  ,  5.71,\n",
       "        6.43,  7.14,  7.86,  8.57,  9.29, 10.  ])"
      ]
     },
     "execution_count": 89,
     "metadata": {},
     "output_type": "execute_result"
    }
   ],
   "source": [
    "#array with linspace\n",
    "arr2 = np.linspace(0,10,15).round(2)\n",
    "arr2"
   ]
  },
  {
   "cell_type": "code",
   "execution_count": null,
   "id": "81cbd49a",
   "metadata": {},
   "outputs": [],
   "source": []
  }
 ],
 "metadata": {
  "kernelspec": {
   "display_name": "Python 3 (ipykernel)",
   "language": "python",
   "name": "python3"
  },
  "language_info": {
   "codemirror_mode": {
    "name": "ipython",
    "version": 3
   },
   "file_extension": ".py",
   "mimetype": "text/x-python",
   "name": "python",
   "nbconvert_exporter": "python",
   "pygments_lexer": "ipython3",
   "version": "3.9.7"
  }
 },
 "nbformat": 4,
 "nbformat_minor": 5
}

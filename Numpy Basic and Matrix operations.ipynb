{
  "nbformat": 4,
  "nbformat_minor": 0,
  "metadata": {
    "colab": {
      "provenance": []
    },
    "kernelspec": {
      "name": "python3",
      "display_name": "Python 3"
    },
    "language_info": {
      "name": "python"
    }
  },
  "cells": [
    {
      "cell_type": "code",
      "execution_count": null,
      "metadata": {
        "id": "r4p-6KF9E-kb"
      },
      "outputs": [],
      "source": [
        "#import numpy library\n",
        "import numpy as np"
      ]
    },
    {
      "cell_type": "code",
      "source": [
        "#create an array using numpy 1D\n",
        "x = np.array([1,2,3,4])\n",
        "y = np.array([5,6,7,8])\n",
        "\n",
        "print('x:',x)\n",
        "print('\\ny:',y)"
      ],
      "metadata": {
        "colab": {
          "base_uri": "https://localhost:8080/"
        },
        "id": "Corl6xdvFN4b",
        "outputId": "9f660680-53dc-4642-cef7-4b58aedeffdc"
      },
      "execution_count": null,
      "outputs": [
        {
          "output_type": "stream",
          "name": "stdout",
          "text": [
            "x: [1 2 3 4]\n",
            "\n",
            "y: [5 6 7 8]\n"
          ]
        }
      ]
    },
    {
      "cell_type": "code",
      "source": [
        "#2D array\n",
        "a = np.array([[1,2,3],[4,5,6]])\n",
        "b = np.array([[8,9,7],[3,2,6]])\n",
        "\n",
        "print('a:',a)\n",
        "print('\\nb:',b)"
      ],
      "metadata": {
        "colab": {
          "base_uri": "https://localhost:8080/"
        },
        "id": "rKjjcDXIFd1W",
        "outputId": "3581b519-7803-4631-e04e-498e152a4e1e"
      },
      "execution_count": null,
      "outputs": [
        {
          "output_type": "stream",
          "name": "stdout",
          "text": [
            "a: [[1 2 3]\n",
            " [4 5 6]]\n",
            "\n",
            "b: [[8 9 7]\n",
            " [3 2 6]]\n"
          ]
        }
      ]
    },
    {
      "cell_type": "code",
      "source": [
        "a.shape"
      ],
      "metadata": {
        "colab": {
          "base_uri": "https://localhost:8080/"
        },
        "id": "kid4df30F10I",
        "outputId": "ad082901-4c65-4258-f586-9afd0ec6feb9"
      },
      "execution_count": null,
      "outputs": [
        {
          "output_type": "execute_result",
          "data": {
            "text/plain": [
              "(2, 3)"
            ]
          },
          "metadata": {},
          "execution_count": 11
        }
      ]
    },
    {
      "cell_type": "code",
      "source": [
        "# creating a matrix of zeros\n",
        "a = np.zeros(4)\n",
        "b = np.zeros((4,4))\n",
        "c = np.zeros((4,4,4))\n",
        "\n",
        "print('a:',a)\n",
        "print('\\nb:',b)\n",
        "print('\\nc:',c)"
      ],
      "metadata": {
        "colab": {
          "base_uri": "https://localhost:8080/"
        },
        "id": "yZrDACtlGVlm",
        "outputId": "efa9adb8-4ed5-46b4-b331-6850853a0a5b"
      },
      "execution_count": null,
      "outputs": [
        {
          "output_type": "stream",
          "name": "stdout",
          "text": [
            "a: [0. 0. 0. 0.]\n",
            "\n",
            "b: [[0. 0. 0. 0.]\n",
            " [0. 0. 0. 0.]\n",
            " [0. 0. 0. 0.]\n",
            " [0. 0. 0. 0.]]\n",
            "\n",
            "c: [[[0. 0. 0. 0.]\n",
            "  [0. 0. 0. 0.]\n",
            "  [0. 0. 0. 0.]\n",
            "  [0. 0. 0. 0.]]\n",
            "\n",
            " [[0. 0. 0. 0.]\n",
            "  [0. 0. 0. 0.]\n",
            "  [0. 0. 0. 0.]\n",
            "  [0. 0. 0. 0.]]\n",
            "\n",
            " [[0. 0. 0. 0.]\n",
            "  [0. 0. 0. 0.]\n",
            "  [0. 0. 0. 0.]\n",
            "  [0. 0. 0. 0.]]\n",
            "\n",
            " [[0. 0. 0. 0.]\n",
            "  [0. 0. 0. 0.]\n",
            "  [0. 0. 0. 0.]\n",
            "  [0. 0. 0. 0.]]]\n"
          ]
        }
      ]
    },
    {
      "cell_type": "code",
      "source": [
        "# creating a matrix of ones\n",
        "a = np.ones(4)\n",
        "b = np.ones((4,4))\n",
        "c = np.ones((4,4,4))\n",
        "\n",
        "print('a:',a)\n",
        "print('\\nb:',b)\n",
        "print('\\nc:',c)"
      ],
      "metadata": {
        "colab": {
          "base_uri": "https://localhost:8080/"
        },
        "id": "JgbmWUIgGemP",
        "outputId": "aa592a77-9e83-4f33-88a3-9ec23ccb4b7f"
      },
      "execution_count": null,
      "outputs": [
        {
          "output_type": "stream",
          "name": "stdout",
          "text": [
            "a: [1. 1. 1. 1.]\n",
            "\n",
            "b: [[1. 1. 1. 1.]\n",
            " [1. 1. 1. 1.]\n",
            " [1. 1. 1. 1.]\n",
            " [1. 1. 1. 1.]]\n",
            "\n",
            "c: [[[1. 1. 1. 1.]\n",
            "  [1. 1. 1. 1.]\n",
            "  [1. 1. 1. 1.]\n",
            "  [1. 1. 1. 1.]]\n",
            "\n",
            " [[1. 1. 1. 1.]\n",
            "  [1. 1. 1. 1.]\n",
            "  [1. 1. 1. 1.]\n",
            "  [1. 1. 1. 1.]]\n",
            "\n",
            " [[1. 1. 1. 1.]\n",
            "  [1. 1. 1. 1.]\n",
            "  [1. 1. 1. 1.]\n",
            "  [1. 1. 1. 1.]]\n",
            "\n",
            " [[1. 1. 1. 1.]\n",
            "  [1. 1. 1. 1.]\n",
            "  [1. 1. 1. 1.]\n",
            "  [1. 1. 1. 1.]]]\n"
          ]
        }
      ]
    },
    {
      "cell_type": "code",
      "source": [
        "#creating identity matrix\n",
        "np.eye(3)"
      ],
      "metadata": {
        "colab": {
          "base_uri": "https://localhost:8080/"
        },
        "id": "AaPZWRqnHUEG",
        "outputId": "53e216c7-b2e8-4627-bc3a-a3990ffc12f2"
      },
      "execution_count": null,
      "outputs": [
        {
          "output_type": "execute_result",
          "data": {
            "text/plain": [
              "array([[1., 0., 0.],\n",
              "       [0., 1., 0.],\n",
              "       [0., 0., 1.]])"
            ]
          },
          "metadata": {},
          "execution_count": 21
        }
      ]
    },
    {
      "cell_type": "code",
      "source": [
        "#creating a diagnol matrix\n",
        "np.diag([23,4,12,7])"
      ],
      "metadata": {
        "colab": {
          "base_uri": "https://localhost:8080/"
        },
        "id": "RFwuOZlcHdWv",
        "outputId": "17050504-48da-4786-9427-1e0624fa7ff2"
      },
      "execution_count": null,
      "outputs": [
        {
          "output_type": "execute_result",
          "data": {
            "text/plain": [
              "array([[23,  0,  0,  0],\n",
              "       [ 0,  4,  0,  0],\n",
              "       [ 0,  0, 12,  0],\n",
              "       [ 0,  0,  0,  7]])"
            ]
          },
          "metadata": {},
          "execution_count": 22
        }
      ]
    },
    {
      "cell_type": "code",
      "source": [
        "# random arrays\n",
        "import random\n",
        "np.random.random((3,4))"
      ],
      "metadata": {
        "colab": {
          "base_uri": "https://localhost:8080/"
        },
        "id": "K3bWO0O9HscE",
        "outputId": "84d1aabb-7de0-4d69-89df-3334bdca7397"
      },
      "execution_count": null,
      "outputs": [
        {
          "output_type": "execute_result",
          "data": {
            "text/plain": [
              "array([[0.12258229, 0.42460081, 0.32831265, 0.54785049],\n",
              "       [0.87175077, 0.02866867, 0.86016972, 0.84051287],\n",
              "       [0.89222152, 0.06911714, 0.22949574, 0.16465876]])"
            ]
          },
          "metadata": {},
          "execution_count": 23
        }
      ]
    },
    {
      "cell_type": "code",
      "source": [
        "np.random.randint(1,10,size=(3,3))"
      ],
      "metadata": {
        "colab": {
          "base_uri": "https://localhost:8080/"
        },
        "id": "Iq4nrX0hH-SK",
        "outputId": "fb169061-3d67-482e-b995-ae049ba0892f"
      },
      "execution_count": null,
      "outputs": [
        {
          "output_type": "execute_result",
          "data": {
            "text/plain": [
              "array([[9, 6, 9],\n",
              "       [6, 9, 4],\n",
              "       [1, 3, 9]])"
            ]
          },
          "metadata": {},
          "execution_count": 31
        }
      ]
    },
    {
      "cell_type": "code",
      "source": [
        "# linespace array\n",
        "np.linspace(1,10,5) # it returns the range of numbers in the given interval and 5 is used to represent that no of integers to be returned."
      ],
      "metadata": {
        "colab": {
          "base_uri": "https://localhost:8080/"
        },
        "id": "CWjFxCyoIBdB",
        "outputId": "88664462-8e85-4941-9602-f7a69eec3c06"
      },
      "execution_count": null,
      "outputs": [
        {
          "output_type": "execute_result",
          "data": {
            "text/plain": [
              "array([ 1.  ,  3.25,  5.5 ,  7.75, 10.  ])"
            ]
          },
          "metadata": {},
          "execution_count": 33
        }
      ]
    },
    {
      "cell_type": "code",
      "source": [
        "#arange function\n",
        "np.arange(20)"
      ],
      "metadata": {
        "colab": {
          "base_uri": "https://localhost:8080/"
        },
        "id": "qSNy94w5IrwV",
        "outputId": "a6886874-eab5-43f4-ec88-724360bfad8c"
      },
      "execution_count": null,
      "outputs": [
        {
          "output_type": "execute_result",
          "data": {
            "text/plain": [
              "array([ 0,  1,  2,  3,  4,  5,  6,  7,  8,  9, 10, 11, 12, 13, 14, 15, 16,\n",
              "       17, 18, 19])"
            ]
          },
          "metadata": {},
          "execution_count": 36
        }
      ]
    },
    {
      "cell_type": "code",
      "source": [
        "#reshape function\n",
        "x = np.arange(20)"
      ],
      "metadata": {
        "id": "9X5vtmvKJAmt"
      },
      "execution_count": null,
      "outputs": []
    },
    {
      "cell_type": "code",
      "source": [
        "x.reshape(4,5)"
      ],
      "metadata": {
        "colab": {
          "base_uri": "https://localhost:8080/"
        },
        "id": "nU3AM-I0JLL9",
        "outputId": "5f9ffd44-9799-4d09-d71c-0ca55705081c"
      },
      "execution_count": null,
      "outputs": [
        {
          "output_type": "execute_result",
          "data": {
            "text/plain": [
              "array([[ 0,  1,  2,  3,  4],\n",
              "       [ 5,  6,  7,  8,  9],\n",
              "       [10, 11, 12, 13, 14],\n",
              "       [15, 16, 17, 18, 19]])"
            ]
          },
          "metadata": {},
          "execution_count": 38
        }
      ]
    },
    {
      "cell_type": "code",
      "source": [
        "# create an array with specific number\n",
        "np.full((4,4),3)"
      ],
      "metadata": {
        "colab": {
          "base_uri": "https://localhost:8080/"
        },
        "id": "VEgFfHXaJOeW",
        "outputId": "8054aa96-07b8-4239-ed3b-b3d6cc18c94d"
      },
      "execution_count": null,
      "outputs": [
        {
          "output_type": "execute_result",
          "data": {
            "text/plain": [
              "array([[3, 3, 3, 3],\n",
              "       [3, 3, 3, 3],\n",
              "       [3, 3, 3, 3],\n",
              "       [3, 3, 3, 3]])"
            ]
          },
          "metadata": {},
          "execution_count": 40
        }
      ]
    },
    {
      "cell_type": "code",
      "source": [
        "#create an array of repeating sequence\n",
        "np.tile([11,22,33],5)\n"
      ],
      "metadata": {
        "id": "4rb5pQL7JiYk",
        "colab": {
          "base_uri": "https://localhost:8080/"
        },
        "outputId": "b37b1106-90dc-411c-d5aa-e8c5b7f71838"
      },
      "execution_count": 41,
      "outputs": [
        {
          "output_type": "execute_result",
          "data": {
            "text/plain": [
              "array([11, 22, 33, 11, 22, 33, 11, 22, 33, 11, 22, 33, 11, 22, 33])"
            ]
          },
          "metadata": {},
          "execution_count": 41
        }
      ]
    },
    {
      "cell_type": "markdown",
      "source": [
        "**Array Indexing**"
      ],
      "metadata": {
        "id": "fdLk6XAJKOU0"
      }
    },
    {
      "cell_type": "code",
      "source": [
        "a = np.array([[1,2,3],[4,5,6]])\n",
        "b = np.array([[8,9,7],[3,2,6]])\n",
        "\n",
        "print('a:',a)\n",
        "print('\\nb:',b)"
      ],
      "metadata": {
        "colab": {
          "base_uri": "https://localhost:8080/"
        },
        "id": "wdwSIKtJJ543",
        "outputId": "e102c846-d216-412d-f27f-cd0a6e3ebde9"
      },
      "execution_count": 43,
      "outputs": [
        {
          "output_type": "stream",
          "name": "stdout",
          "text": [
            "a: [[1 2 3]\n",
            " [4 5 6]]\n",
            "\n",
            "b: [[8 9 7]\n",
            " [3 2 6]]\n"
          ]
        }
      ]
    },
    {
      "cell_type": "code",
      "source": [
        "print(a[1])\n",
        "print(a[:1])"
      ],
      "metadata": {
        "colab": {
          "base_uri": "https://localhost:8080/"
        },
        "id": "BC9dBtOLKWLT",
        "outputId": "dd18269e-9e44-46dc-d195-fd335835b48c"
      },
      "execution_count": 47,
      "outputs": [
        {
          "output_type": "stream",
          "name": "stdout",
          "text": [
            "[4 5 6]\n",
            "[[1 2 3]]\n"
          ]
        }
      ]
    },
    {
      "cell_type": "code",
      "source": [
        "print(b[0][1])"
      ],
      "metadata": {
        "colab": {
          "base_uri": "https://localhost:8080/"
        },
        "id": "FIFiQuo-KZzf",
        "outputId": "d39530d4-09c8-49ce-9d3a-63fba1c8387b"
      },
      "execution_count": 48,
      "outputs": [
        {
          "output_type": "stream",
          "name": "stdout",
          "text": [
            "9\n"
          ]
        }
      ]
    },
    {
      "cell_type": "markdown",
      "source": [
        "**Array Slicing**"
      ],
      "metadata": {
        "id": "gLPzIr_iK9qm"
      }
    },
    {
      "cell_type": "code",
      "source": [
        "x = np.array([1,2,3,4,5,6,7,8,9])"
      ],
      "metadata": {
        "id": "kTCF4tI8Kyc1"
      },
      "execution_count": 49,
      "outputs": []
    },
    {
      "cell_type": "code",
      "source": [
        "print(x[:5])"
      ],
      "metadata": {
        "colab": {
          "base_uri": "https://localhost:8080/"
        },
        "id": "xStgzRNgLDer",
        "outputId": "565da211-aba7-496a-d876-445a7e62b6ae"
      },
      "execution_count": 50,
      "outputs": [
        {
          "output_type": "stream",
          "name": "stdout",
          "text": [
            "[1 2 3 4 5]\n"
          ]
        }
      ]
    },
    {
      "cell_type": "code",
      "source": [
        "print(x[2:7])"
      ],
      "metadata": {
        "colab": {
          "base_uri": "https://localhost:8080/"
        },
        "id": "-lyvEOlJLGxy",
        "outputId": "d18dc1f6-dc8f-4b4f-872b-dc538ead6833"
      },
      "execution_count": 51,
      "outputs": [
        {
          "output_type": "stream",
          "name": "stdout",
          "text": [
            "[3 4 5 6 7]\n"
          ]
        }
      ]
    },
    {
      "cell_type": "code",
      "source": [
        "print(x[::2])"
      ],
      "metadata": {
        "colab": {
          "base_uri": "https://localhost:8080/"
        },
        "id": "8dFU-GMaLJmd",
        "outputId": "61c035e1-b1fb-48bd-941b-e7c263a93da0"
      },
      "execution_count": 55,
      "outputs": [
        {
          "output_type": "stream",
          "name": "stdout",
          "text": [
            "[1 3 5 7 9]\n"
          ]
        }
      ]
    },
    {
      "cell_type": "code",
      "source": [
        "x = np.arange(20)\n",
        "x = x.reshape(4,5)\n",
        "x"
      ],
      "metadata": {
        "colab": {
          "base_uri": "https://localhost:8080/"
        },
        "id": "BuWRc2iCLRJC",
        "outputId": "20e443ae-355d-48a1-db32-852381aaf675"
      },
      "execution_count": 57,
      "outputs": [
        {
          "output_type": "execute_result",
          "data": {
            "text/plain": [
              "array([[ 0,  1,  2,  3,  4],\n",
              "       [ 5,  6,  7,  8,  9],\n",
              "       [10, 11, 12, 13, 14],\n",
              "       [15, 16, 17, 18, 19]])"
            ]
          },
          "metadata": {},
          "execution_count": 57
        }
      ]
    },
    {
      "cell_type": "code",
      "source": [
        "print(a[1:5,:4])"
      ],
      "metadata": {
        "colab": {
          "base_uri": "https://localhost:8080/"
        },
        "id": "RLAzvndfLk3K",
        "outputId": "6cd987d9-b839-4bf5-aa87-b452f457e139"
      },
      "execution_count": 60,
      "outputs": [
        {
          "output_type": "stream",
          "name": "stdout",
          "text": [
            "[[4 5 6]]\n"
          ]
        }
      ]
    },
    {
      "cell_type": "markdown",
      "source": [
        "**Adding two arrays**"
      ],
      "metadata": {
        "id": "tToKeVB8MAdZ"
      }
    },
    {
      "cell_type": "code",
      "source": [
        "a = np.array([[1,2,3],[4,5,6]])\n",
        "b = np.array([[8,9,7],[3,2,6]])\n",
        "\n",
        "print('a:',a)\n",
        "print('\\nb:',b)"
      ],
      "metadata": {
        "colab": {
          "base_uri": "https://localhost:8080/"
        },
        "id": "Ko5-JtIsLqt3",
        "outputId": "d3b6b3b6-764b-4a45-8d7d-66bcd679790e"
      },
      "execution_count": 73,
      "outputs": [
        {
          "output_type": "stream",
          "name": "stdout",
          "text": [
            "a: [[1 2 3]\n",
            " [4 5 6]]\n",
            "\n",
            "b: [[8 9 7]\n",
            " [3 2 6]]\n"
          ]
        }
      ]
    },
    {
      "cell_type": "code",
      "source": [
        "sum = np.concatenate((a,b),axis=1)\n",
        "sum"
      ],
      "metadata": {
        "colab": {
          "base_uri": "https://localhost:8080/"
        },
        "id": "Ls1fHCCaMKBz",
        "outputId": "88a214cd-7807-4fef-d857-d1eedeb62fda"
      },
      "execution_count": 65,
      "outputs": [
        {
          "output_type": "execute_result",
          "data": {
            "text/plain": [
              "array([[1, 2, 3, 8, 9, 7],\n",
              "       [4, 5, 6, 3, 2, 6]])"
            ]
          },
          "metadata": {},
          "execution_count": 65
        }
      ]
    },
    {
      "cell_type": "code",
      "source": [
        "sum = np.concatenate((a,b),axis=0)\n",
        "sum"
      ],
      "metadata": {
        "colab": {
          "base_uri": "https://localhost:8080/"
        },
        "id": "Y9fLUTZ0MT7E",
        "outputId": "21225d83-f1aa-45a7-a505-255e2cdde040"
      },
      "execution_count": 66,
      "outputs": [
        {
          "output_type": "execute_result",
          "data": {
            "text/plain": [
              "array([[1, 2, 3],\n",
              "       [4, 5, 6],\n",
              "       [8, 9, 7],\n",
              "       [3, 2, 6]])"
            ]
          },
          "metadata": {},
          "execution_count": 66
        }
      ]
    },
    {
      "cell_type": "code",
      "source": [
        "#inner product or dot product of arrays\n",
        "x = np.array([1,2,3,4])\n",
        "y = np.array([5,6,7,8])\n",
        "\n",
        "print('x:',x)\n",
        "print('\\ny:',y)"
      ],
      "metadata": {
        "colab": {
          "base_uri": "https://localhost:8080/"
        },
        "id": "cmagD3WSMdLA",
        "outputId": "88221f9f-71e0-4351-c066-7ad8efd1f697"
      },
      "execution_count": 67,
      "outputs": [
        {
          "output_type": "stream",
          "name": "stdout",
          "text": [
            "x: [1 2 3 4]\n",
            "\n",
            "y: [5 6 7 8]\n"
          ]
        }
      ]
    },
    {
      "cell_type": "code",
      "source": [
        "np.dot(x,y)"
      ],
      "metadata": {
        "colab": {
          "base_uri": "https://localhost:8080/"
        },
        "id": "8nNOFhzpNBqS",
        "outputId": "6c5535a4-1ae2-45ef-bb28-7da525775e29"
      },
      "execution_count": 68,
      "outputs": [
        {
          "output_type": "execute_result",
          "data": {
            "text/plain": [
              "70"
            ]
          },
          "metadata": {},
          "execution_count": 68
        }
      ]
    },
    {
      "cell_type": "code",
      "source": [
        "np.inner(x,y)"
      ],
      "metadata": {
        "colab": {
          "base_uri": "https://localhost:8080/"
        },
        "id": "J61q9r3qNGPA",
        "outputId": "7c93d663-0e1c-4968-b422-d54c9c0485ea"
      },
      "execution_count": 69,
      "outputs": [
        {
          "output_type": "execute_result",
          "data": {
            "text/plain": [
              "70"
            ]
          },
          "metadata": {},
          "execution_count": 69
        }
      ]
    },
    {
      "cell_type": "code",
      "source": [
        "#dot product of 2D arrays\n",
        "a = np.array([[1,2],[5,6]])\n",
        "b = np.array([[8,9],[2,6]])\n",
        "\n",
        "print('a:',a)\n",
        "print('\\nb:',b)"
      ],
      "metadata": {
        "colab": {
          "base_uri": "https://localhost:8080/"
        },
        "id": "B34OzU-cNIUB",
        "outputId": "b06b17d8-843d-476e-fd5a-cf2a7d0e294c"
      },
      "execution_count": 74,
      "outputs": [
        {
          "output_type": "stream",
          "name": "stdout",
          "text": [
            "a: [[1 2]\n",
            " [5 6]]\n",
            "\n",
            "b: [[8 9]\n",
            " [2 6]]\n"
          ]
        }
      ]
    },
    {
      "cell_type": "code",
      "source": [
        "np.dot(a,b)"
      ],
      "metadata": {
        "colab": {
          "base_uri": "https://localhost:8080/"
        },
        "id": "EdxFBLpLNY8v",
        "outputId": "63f52024-b250-4be7-e059-15b975eec8a7"
      },
      "execution_count": 75,
      "outputs": [
        {
          "output_type": "execute_result",
          "data": {
            "text/plain": [
              "array([[12, 21],\n",
              "       [52, 81]])"
            ]
          },
          "metadata": {},
          "execution_count": 75
        }
      ]
    },
    {
      "cell_type": "code",
      "source": [
        "#transpose\n",
        "np.transpose(a)"
      ],
      "metadata": {
        "colab": {
          "base_uri": "https://localhost:8080/"
        },
        "id": "nHDi5EgiNzjo",
        "outputId": "ba8668f6-548f-4720-c044-4bc85c009f84"
      },
      "execution_count": 76,
      "outputs": [
        {
          "output_type": "execute_result",
          "data": {
            "text/plain": [
              "array([[1, 5],\n",
              "       [2, 6]])"
            ]
          },
          "metadata": {},
          "execution_count": 76
        }
      ]
    },
    {
      "cell_type": "code",
      "source": [
        "# or\n",
        "b.transpose()"
      ],
      "metadata": {
        "colab": {
          "base_uri": "https://localhost:8080/"
        },
        "id": "JiIun8juN7tp",
        "outputId": "6c838699-d5ea-413a-e6b2-dd78b046b00f"
      },
      "execution_count": 79,
      "outputs": [
        {
          "output_type": "execute_result",
          "data": {
            "text/plain": [
              "array([[8, 2],\n",
              "       [9, 6]])"
            ]
          },
          "metadata": {},
          "execution_count": 79
        }
      ]
    },
    {
      "cell_type": "code",
      "source": [
        "#determinant\n",
        "a = np.array([[1,2,3],[4,5,6],[10,23,15]])\n",
        "a"
      ],
      "metadata": {
        "colab": {
          "base_uri": "https://localhost:8080/"
        },
        "id": "grCinrWDOBJ0",
        "outputId": "a4d87472-9cd9-4b01-bd71-4b6481e45c06"
      },
      "execution_count": 80,
      "outputs": [
        {
          "output_type": "execute_result",
          "data": {
            "text/plain": [
              "array([[ 1,  2,  3],\n",
              "       [ 4,  5,  6],\n",
              "       [10, 23, 15]])"
            ]
          },
          "metadata": {},
          "execution_count": 80
        }
      ]
    },
    {
      "cell_type": "code",
      "source": [
        "np.linalg.det(a) # linalg is package of numpy that has the following functions such as determinant , inverse,rank,etc.."
      ],
      "metadata": {
        "colab": {
          "base_uri": "https://localhost:8080/"
        },
        "id": "VQpYJs5UOdPP",
        "outputId": "c8d7ac99-8f71-496a-c046-d96f17fc33ca"
      },
      "execution_count": 82,
      "outputs": [
        {
          "output_type": "execute_result",
          "data": {
            "text/plain": [
              "63.00000000000005"
            ]
          },
          "metadata": {},
          "execution_count": 82
        }
      ]
    },
    {
      "cell_type": "code",
      "source": [
        "#True Inverse of an array\n",
        "np.linalg.inv(a)"
      ],
      "metadata": {
        "colab": {
          "base_uri": "https://localhost:8080/"
        },
        "id": "XipMZVQnOkad",
        "outputId": "452b4018-646e-40e5-c919-400ba6bbc854"
      },
      "execution_count": 84,
      "outputs": [
        {
          "output_type": "execute_result",
          "data": {
            "text/plain": [
              "array([[-1.        ,  0.61904762, -0.04761905],\n",
              "       [-0.        , -0.23809524,  0.0952381 ],\n",
              "       [ 0.66666667, -0.04761905, -0.04761905]])"
            ]
          },
          "metadata": {},
          "execution_count": 84
        }
      ]
    },
    {
      "cell_type": "code",
      "source": [
        "#pseudo inverse of an array\n",
        "np.linalg.pinv(a)"
      ],
      "metadata": {
        "colab": {
          "base_uri": "https://localhost:8080/"
        },
        "id": "fwjPfyhlPKoP",
        "outputId": "61dc343a-6f5a-4609-bbb5-35ab083adb26"
      },
      "execution_count": 85,
      "outputs": [
        {
          "output_type": "execute_result",
          "data": {
            "text/plain": [
              "array([[-1.00000000e+00,  6.19047619e-01, -4.76190476e-02],\n",
              "       [ 8.32967820e-17, -2.38095238e-01,  9.52380952e-02],\n",
              "       [ 6.66666667e-01, -4.76190476e-02, -4.76190476e-02]])"
            ]
          },
          "metadata": {},
          "execution_count": 85
        }
      ]
    },
    {
      "cell_type": "code",
      "source": [
        "#flatten an array\n",
        "print('a:\\n',a)\n",
        "print('\\nflatten of a:',a.flatten())"
      ],
      "metadata": {
        "colab": {
          "base_uri": "https://localhost:8080/"
        },
        "id": "ySJpY4oKPbQz",
        "outputId": "6a84b20f-11f2-4653-8a10-11cefa302401"
      },
      "execution_count": 90,
      "outputs": [
        {
          "output_type": "stream",
          "name": "stdout",
          "text": [
            "a:\n",
            " [[ 1  2  3]\n",
            " [ 4  5  6]\n",
            " [10 23 15]]\n",
            "\n",
            "flatten of a: [ 1  2  3  4  5  6 10 23 15]\n"
          ]
        }
      ]
    },
    {
      "cell_type": "code",
      "source": [],
      "metadata": {
        "id": "SlDYH-pHPnEv"
      },
      "execution_count": null,
      "outputs": []
    }
  ]
}